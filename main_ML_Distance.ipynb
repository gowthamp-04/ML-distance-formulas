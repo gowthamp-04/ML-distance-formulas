{
  "nbformat": 4,
  "nbformat_minor": 0,
  "metadata": {
    "colab": {
      "provenance": [],
      "authorship_tag": "ABX9TyNkggdncbro5cRHHY3oKXY9",
      "include_colab_link": true
    },
    "kernelspec": {
      "name": "python3",
      "display_name": "Python 3"
    },
    "language_info": {
      "name": "python"
    }
  },
  "cells": [
    {
      "cell_type": "markdown",
      "metadata": {
        "id": "view-in-github",
        "colab_type": "text"
      },
      "source": [
        "<a href=\"https://colab.research.google.com/github/gowthamp-04/ML-distance-formulas/blob/main/main_ML_Distance.ipynb\" target=\"_parent\"><img src=\"https://colab.research.google.com/assets/colab-badge.svg\" alt=\"Open In Colab\"/></a>"
      ]
    },
    {
      "cell_type": "markdown",
      "source": [
        "\n",
        "\n",
        "---\n",
        "\n",
        "\n",
        "Euclidean Distance (eg:movie recommendation)\n",
        "\n",
        "\n",
        "---\n",
        "\n"
      ],
      "metadata": {
        "id": "m65DVDGiA6xZ"
      }
    },
    {
      "cell_type": "markdown",
      "source": [
        "![distanceformula.jpg](data:image/jpeg;base64,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)"
      ],
      "metadata": {
        "id": "RXRidYMtAZGh"
      }
    },
    {
      "cell_type": "code",
      "source": [
        "from sklearn.metrics.pairwise import euclidean_distances\n",
        "import numpy as np\n",
        "\n",
        "x = np.array([[2, 1, 7],\n",
        "\t\t\t[0, 9, 2],\n",
        "\t\t\t[5, 7, 2]])\n",
        "\n",
        "distance = euclidean_distances(x, [[0, 0, 0]])\n",
        "print(distance)\n"
      ],
      "metadata": {
        "colab": {
          "base_uri": "https://localhost:8080/"
        },
        "id": "oJLsNVMpA3db",
        "outputId": "207a749a-7bea-4166-f465-1b9cd45b2461"
      },
      "execution_count": null,
      "outputs": [
        {
          "output_type": "stream",
          "name": "stdout",
          "text": [
            "[[7.34846923]\n",
            " [9.21954446]\n",
            " [8.83176087]]\n"
          ]
        }
      ]
    },
    {
      "cell_type": "code",
      "source": [
        "import numpy as np\n",
        "import math\n",
        "\n",
        "x = np.array([[2, 1, 7],\n",
        "              [0, 9, 2],\n",
        "              [5, 7, 2]])\n",
        "\n",
        "point = np.array([0, 0, 0])\n",
        "\n",
        "def euclidean_distance(v1, v2):\n",
        "    return math.sqrt(sum((a - b) ** 2 for a, b in zip(v1, v2)))#pairs\n",
        "\n",
        "distances = np.array([euclidean_distance(row, point) for row in x])\n",
        "print(distances)\n"
      ],
      "metadata": {
        "colab": {
          "base_uri": "https://localhost:8080/"
        },
        "id": "e4L6Cu1NBHvz",
        "outputId": "0fd4dd9a-a8d1-48a1-d1c2-b1f98a3ad0dc"
      },
      "execution_count": null,
      "outputs": [
        {
          "output_type": "stream",
          "name": "stdout",
          "text": [
            "[7.34846923 9.21954446 8.83176087]\n"
          ]
        }
      ]
    },
    {
      "cell_type": "markdown",
      "source": [
        "\n",
        "\n",
        "---\n",
        "\n",
        "\n",
        "hamming distance (eg:DNA mathcing)\n",
        "\n",
        "\n",
        "\n",
        "---\n",
        "\n"
      ],
      "metadata": {
        "id": "8v6PRbauGpP5"
      }
    },
    {
      "cell_type": "markdown",
      "source": [
        "![1_joByCygY2_CAV673oHEbMQ.png](data:image/png;base64,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)"
      ],
      "metadata": {
        "id": "6UxjAW7pHYP7"
      }
    },
    {
      "cell_type": "code",
      "source": [
        "from scipy.spatial.distance import hamming\n",
        "\n",
        "row1 = [0, 0, 0, 0, 0, 1]\n",
        "row2 = [0, 0, 0, 0, 1, 0]\n",
        "\n",
        "dist = hamming(row1, row2)\n",
        "print(dist)"
      ],
      "metadata": {
        "colab": {
          "base_uri": "https://localhost:8080/"
        },
        "id": "Q6JAPDN7B5KC",
        "outputId": "d3e506d8-f9ed-41f2-aca9-7e5cdaefe632"
      },
      "execution_count": null,
      "outputs": [
        {
          "output_type": "stream",
          "name": "stdout",
          "text": [
            "0.3333333333333333\n"
          ]
        }
      ]
    },
    {
      "cell_type": "code",
      "source": [
        "def hamming_distance(a, b):\n",
        "    return sum(abs(e1 - e2) for e1, e2 in zip(a, b)) / len(b)\n",
        "\n",
        "row1 = [0, 0, 0, 0, 0, 1]\n",
        "row2 = [0, 0, 0, 0, 1, 0]\n",
        "\n",
        "dist = hamming_distance(row1, row2)\n",
        "\n",
        "if len(row1) != len(row2):\n",
        "  print(\"length varies from row1 and row2\")\n",
        "else:\n",
        "  print(dist)\n"
      ],
      "metadata": {
        "colab": {
          "base_uri": "https://localhost:8080/"
        },
        "id": "sAooEcMkDv3Y",
        "outputId": "a9e7ba47-7b69-4dd5-8e07-8512b74d4819"
      },
      "execution_count": null,
      "outputs": [
        {
          "output_type": "stream",
          "name": "stdout",
          "text": [
            "0.3333333333333333\n"
          ]
        }
      ]
    },
    {
      "cell_type": "markdown",
      "source": [
        "\n",
        "\n",
        "---\n",
        "\n",
        "\n",
        "Manhattan diatance (eg:Delivery Routing in a City Grid)\n",
        "\n",
        "\n",
        "---\n",
        "\n"
      ],
      "metadata": {
        "id": "YynheohdBycP"
      }
    },
    {
      "cell_type": "markdown",
      "source": [
        "![Picture2-2f33133e.webp](data:image/webp;base64,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)"
      ],
      "metadata": {
        "id": "Unwnwe7qCFmM"
      }
    },
    {
      "cell_type": "code",
      "source": [
        "from sklearn.metrics import pairwise_distances\n",
        "point1 = [1, 2]\n",
        "point2 = [4, 6]\n",
        "\n",
        "# calculate Manhattan distance\n",
        "manhattan_dist = pairwise_distances([point1], [point2], metric='manhattan')\n",
        "print(manhattan_dist[0][0])\n"
      ],
      "metadata": {
        "colab": {
          "base_uri": "https://localhost:8080/"
        },
        "id": "uZ4lngQtIMx7",
        "outputId": "6de05501-3d0f-46f0-b6a7-5eaad94d81ac"
      },
      "execution_count": null,
      "outputs": [
        {
          "output_type": "stream",
          "name": "stdout",
          "text": [
            "7.0\n"
          ]
        }
      ]
    },
    {
      "cell_type": "code",
      "source": [
        "point1 = [1, 2]\n",
        "point2 = [4, 6]\n",
        "\n",
        "# calculate Manhattan distance manually\n",
        "manhattan_dist = abs(point2[0] - point1[0]) + abs(point2[1] - point1[1])\n",
        "\n",
        "if len(point1) != len(point2):\n",
        "  print(\"length varies from point1 and point2\")\n",
        "else:\n",
        "  print( manhattan_dist)\n"
      ],
      "metadata": {
        "colab": {
          "base_uri": "https://localhost:8080/"
        },
        "id": "5LxkJk_HJapo",
        "outputId": "741c1316-4102-4c75-cb7f-b78adfd3612f"
      },
      "execution_count": null,
      "outputs": [
        {
          "output_type": "stream",
          "name": "stdout",
          "text": [
            "7\n"
          ]
        }
      ]
    },
    {
      "cell_type": "markdown",
      "source": [
        "\n",
        "\n",
        "---\n",
        "\n",
        "\n",
        "Cosine similarity (eg: Music Recommendation on Spotify)\n",
        "\n",
        "\n",
        "---\n",
        "\n"
      ],
      "metadata": {
        "id": "kdk84OIdJmY3"
      }
    },
    {
      "cell_type": "markdown",
      "source": [
        "![1_iDow4EviLi-UsVkBu85mxg.png](data:image/png;base64,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)"
      ],
      "metadata": {
        "id": "wMU6pUlrJxR0"
      }
    },
    {
      "cell_type": "code",
      "source": [
        "from sklearn.metrics.pairwise import cosine_similarity\n",
        "a = [1, 2, 3]\n",
        "b = [4, 5, 6]\n",
        "cosine_sim = cosine_similarity([a], [b])\n",
        "print(cosine_sim[0][0])\n"
      ],
      "metadata": {
        "colab": {
          "base_uri": "https://localhost:8080/"
        },
        "id": "YyUgx3LQJwuV",
        "outputId": "c7a8659a-4bd4-4188-985a-bd280831da17"
      },
      "execution_count": null,
      "outputs": [
        {
          "output_type": "stream",
          "name": "stdout",
          "text": [
            "0.9746318461970762\n"
          ]
        }
      ]
    },
    {
      "cell_type": "code",
      "source": [
        "import numpy as np\n",
        "\n",
        "a = np.array([1, 2, 3])\n",
        "b = np.array([4, 5, 6])\n",
        "\n",
        "dot_product = np.dot(a, b)\n",
        "\n",
        "magnitude_a = np.linalg.norm(a)\n",
        "magnitude_b = np.linalg.norm(b)\n",
        "\n",
        "cosine_similarity = dot_product / (magnitude_a * magnitude_b)\n",
        "\n",
        "print(cosine_similarity)\n",
        "\n"
      ],
      "metadata": {
        "colab": {
          "base_uri": "https://localhost:8080/"
        },
        "id": "TeO3RAbGKt1i",
        "outputId": "881c1679-32c6-469b-e785-b08a5b72e1f6"
      },
      "execution_count": 4,
      "outputs": [
        {
          "output_type": "stream",
          "name": "stdout",
          "text": [
            "0.9746318461970762\n"
          ]
        }
      ]
    },
    {
      "cell_type": "markdown",
      "source": [
        "\n",
        "\n",
        "---\n",
        "\n",
        "---\n",
        "\n",
        "\n",
        "\n"
      ],
      "metadata": {
        "id": "2vKXapFQ4296"
      }
    }
  ]
}